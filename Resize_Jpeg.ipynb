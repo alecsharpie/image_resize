{
 "cells": [
  {
   "cell_type": "code",
   "execution_count": 17,
   "id": "c8d8780c",
   "metadata": {},
   "outputs": [],
   "source": [
    "from tensorflow.io import read_file, decode_jpeg\n",
    "\n",
    "img = decode_jpeg(read_file('police_certificate.jpg'), channels = 3)"
   ]
  },
  {
   "cell_type": "code",
   "execution_count": 18,
   "id": "8f49f085",
   "metadata": {},
   "outputs": [],
   "source": [
    "import numpy as np\n",
    "\n",
    "# get 90% size of original image\n",
    "new_size = (np.array(img.shape) * 0.9).astype(int)"
   ]
  },
  {
   "cell_type": "code",
   "execution_count": 40,
   "id": "37437778",
   "metadata": {},
   "outputs": [],
   "source": [
    "from tensorflow.image import resize\n",
    "\n",
    "# resize img\n",
    "new_img_arr = resize(img, new_size[:2])\n",
    "# convert to an unsigned integer array\n",
    "new_img_arr = new_img_arr.numpy().astype(np.uint8)"
   ]
  },
  {
   "cell_type": "code",
   "execution_count": 43,
   "id": "af70e1e9",
   "metadata": {},
   "outputs": [],
   "source": [
    "from PIL import Image\n",
    "# convert array to image\n",
    "new_img = Image.fromarray(new_img_arr)\n",
    "# save as new jpg\n",
    "new_img.save(\"resized police certificate.jpg\")"
   ]
  },
  {
   "cell_type": "code",
   "execution_count": null,
   "id": "4591bb26",
   "metadata": {},
   "outputs": [],
   "source": []
  }
 ],
 "metadata": {
  "kernelspec": {
   "display_name": "Python 3 (ipykernel)",
   "language": "python",
   "name": "python3"
  },
  "language_info": {
   "codemirror_mode": {
    "name": "ipython",
    "version": 3
   },
   "file_extension": ".py",
   "mimetype": "text/x-python",
   "name": "python",
   "nbconvert_exporter": "python",
   "pygments_lexer": "ipython3",
   "version": "3.8.6"
  }
 },
 "nbformat": 4,
 "nbformat_minor": 5
}
